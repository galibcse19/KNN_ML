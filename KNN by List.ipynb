{
 "cells": [
  {
   "cell_type": "code",
   "execution_count": 21,
   "id": "21bc27c4",
   "metadata": {},
   "outputs": [],
   "source": [
    "weather=['sunny','sunny','overcast','rainy','rainy','rainy','overcast','sunny',\n",
    "        'sunny','rainy','sunny','overcast','overcast','rainy']"
   ]
  },
  {
   "cell_type": "code",
   "execution_count": 22,
   "id": "a0faf2f5",
   "metadata": {},
   "outputs": [],
   "source": [
    "temp=['hot','hot','hot','mild','cool','cool','cool','mild','cool','mild','mild',\n",
    "     'mild','hot','mild']"
   ]
  },
  {
   "cell_type": "code",
   "execution_count": 23,
   "id": "5e408263",
   "metadata": {},
   "outputs": [],
   "source": [
    "play=['no','no','yes','yes','yes','no','yes','no','yes','yes','yes','yes','yes',\n",
    "     'no']"
   ]
  },
  {
   "cell_type": "code",
   "execution_count": 24,
   "id": "389aa920",
   "metadata": {},
   "outputs": [],
   "source": [
    "from sklearn import preprocessing"
   ]
  },
  {
   "cell_type": "code",
   "execution_count": 25,
   "id": "1d74bbf4",
   "metadata": {},
   "outputs": [],
   "source": [
    "le=preprocessing.LabelEncoder()"
   ]
  },
  {
   "cell_type": "code",
   "execution_count": 26,
   "id": "b91dde43",
   "metadata": {},
   "outputs": [],
   "source": [
    "weather_encode=le.fit_transform(weather)"
   ]
  },
  {
   "cell_type": "code",
   "execution_count": 27,
   "id": "bbd3c70b",
   "metadata": {},
   "outputs": [
    {
     "data": {
      "text/plain": [
       "array([2, 2, 0, 1, 1, 1, 0, 2, 2, 1, 2, 0, 0, 1], dtype=int64)"
      ]
     },
     "execution_count": 27,
     "metadata": {},
     "output_type": "execute_result"
    }
   ],
   "source": [
    "weather_encode"
   ]
  },
  {
   "cell_type": "code",
   "execution_count": 28,
   "id": "8b90260a",
   "metadata": {},
   "outputs": [],
   "source": [
    "temp_encode=le.fit_transform(temp)"
   ]
  },
  {
   "cell_type": "code",
   "execution_count": 29,
   "id": "199bb16f",
   "metadata": {},
   "outputs": [
    {
     "data": {
      "text/plain": [
       "array([1, 1, 1, 2, 0, 0, 0, 2, 0, 2, 2, 2, 1, 2], dtype=int64)"
      ]
     },
     "execution_count": 29,
     "metadata": {},
     "output_type": "execute_result"
    }
   ],
   "source": [
    "temp_encode"
   ]
  },
  {
   "cell_type": "code",
   "execution_count": 30,
   "id": "cc7e0a5a",
   "metadata": {},
   "outputs": [],
   "source": [
    "play_encode=le.fit_transform(play)"
   ]
  },
  {
   "cell_type": "code",
   "execution_count": 31,
   "id": "83ee3bff",
   "metadata": {},
   "outputs": [
    {
     "data": {
      "text/plain": [
       "array([0, 0, 1, 1, 1, 0, 1, 0, 1, 1, 1, 1, 1, 0], dtype=int64)"
      ]
     },
     "execution_count": 31,
     "metadata": {},
     "output_type": "execute_result"
    }
   ],
   "source": [
    "play_encode"
   ]
  },
  {
   "cell_type": "code",
   "execution_count": 32,
   "id": "d37fdb3e",
   "metadata": {},
   "outputs": [],
   "source": [
    "feature=list(zip(weather_encode,temp_encode))"
   ]
  },
  {
   "cell_type": "code",
   "execution_count": 33,
   "id": "a7beffd9",
   "metadata": {},
   "outputs": [
    {
     "data": {
      "text/plain": [
       "[(2, 1),\n",
       " (2, 1),\n",
       " (0, 1),\n",
       " (1, 2),\n",
       " (1, 0),\n",
       " (1, 0),\n",
       " (0, 0),\n",
       " (2, 2),\n",
       " (2, 0),\n",
       " (1, 2),\n",
       " (2, 2),\n",
       " (0, 2),\n",
       " (0, 1),\n",
       " (1, 2)]"
      ]
     },
     "execution_count": 33,
     "metadata": {},
     "output_type": "execute_result"
    }
   ],
   "source": [
    "feature"
   ]
  },
  {
   "cell_type": "code",
   "execution_count": 34,
   "id": "6e470ab3",
   "metadata": {},
   "outputs": [],
   "source": [
    "from sklearn.neighbors import KNeighborsClassifier"
   ]
  },
  {
   "cell_type": "code",
   "execution_count": 35,
   "id": "8de1e0db",
   "metadata": {},
   "outputs": [],
   "source": [
    "model=KNeighborsClassifier(n_neighbors=3)"
   ]
  },
  {
   "cell_type": "code",
   "execution_count": 36,
   "id": "86b93f76",
   "metadata": {},
   "outputs": [
    {
     "data": {
      "text/plain": [
       "KNeighborsClassifier(n_neighbors=3)"
      ]
     },
     "execution_count": 36,
     "metadata": {},
     "output_type": "execute_result"
    }
   ],
   "source": [
    "model.fit(feature,play_encode)"
   ]
  },
  {
   "cell_type": "code",
   "execution_count": 37,
   "id": "0d094076",
   "metadata": {},
   "outputs": [
    {
     "name": "stderr",
     "output_type": "stream",
     "text": [
      "C:\\ProgramData\\Anaconda3\\lib\\site-packages\\sklearn\\neighbors\\_classification.py:228: FutureWarning: Unlike other reduction functions (e.g. `skew`, `kurtosis`), the default behavior of `mode` typically preserves the axis it acts along. In SciPy 1.11.0, this behavior will change: the default value of `keepdims` will become False, the `axis` over which the statistic is taken will be eliminated, and the value None will no longer be accepted. Set `keepdims` to True or False to avoid this warning.\n",
      "  mode, _ = stats.mode(_y[neigh_ind, k], axis=1)\n"
     ]
    },
    {
     "data": {
      "text/plain": [
       "array([1], dtype=int64)"
      ]
     },
     "execution_count": 37,
     "metadata": {},
     "output_type": "execute_result"
    }
   ],
   "source": [
    "model.predict([[0,2]])"
   ]
  },
  {
   "cell_type": "code",
   "execution_count": null,
   "id": "cf44094e",
   "metadata": {},
   "outputs": [],
   "source": []
  }
 ],
 "metadata": {
  "kernelspec": {
   "display_name": "Python 3 (ipykernel)",
   "language": "python",
   "name": "python3"
  },
  "language_info": {
   "codemirror_mode": {
    "name": "ipython",
    "version": 3
   },
   "file_extension": ".py",
   "mimetype": "text/x-python",
   "name": "python",
   "nbconvert_exporter": "python",
   "pygments_lexer": "ipython3",
   "version": "3.9.13"
  }
 },
 "nbformat": 4,
 "nbformat_minor": 5
}
